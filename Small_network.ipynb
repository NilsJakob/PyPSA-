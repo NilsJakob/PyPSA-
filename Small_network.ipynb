{
 "cells": [
  {
   "cell_type": "code",
   "execution_count": 1,
   "metadata": {},
   "outputs": [],
   "source": [
    "import pypsa\n",
    "import numpy as np "
   ]
  },
  {
   "cell_type": "code",
   "execution_count": 2,
   "metadata": {},
   "outputs": [],
   "source": [
    "network = pypsa.Network()"
   ]
  },
  {
   "cell_type": "code",
   "execution_count": 4,
   "metadata": {},
   "outputs": [
    {
     "name": "stdout",
     "output_type": "stream",
     "text": [
      "attribute  v_nom type    x    y carrier  v_mag_pu_set  v_mag_pu_min  \\\n",
      "My bus 0     1.0       0.0  0.0      AC           1.0           0.0   \n",
      "My bus 1     1.0       0.0  0.0      AC           1.0           0.0   \n",
      "My bus 2     1.0       0.0  0.0      AC           1.0           0.0   \n",
      "\n",
      "attribute  v_mag_pu_max control sub_network  \n",
      "My bus 0            inf      PQ              \n",
      "My bus 1            inf      PQ              \n",
      "My bus 2            inf      PQ              \n"
     ]
    }
   ],
   "source": [
    "# add 3 buses\n",
    "for i in range(3):\n",
    "    network.add(\"Bus\", \"My bus {}\". format(i))\n",
    "print(network.buses)"
   ]
  },
  {
   "cell_type": "code",
   "execution_count": 6,
   "metadata": {},
   "outputs": [
    {
     "name": "stdout",
     "output_type": "stream",
     "text": [
      "attribute      bus0      bus1 type       x    r    g    b  s_nom  \\\n",
      "My line 0  My bus 0  My bus 1       0.0001  0.0  0.0  0.0    0.0   \n",
      "My line 1  My bus 1  My bus 2       0.0001  0.0  0.0  0.0    0.0   \n",
      "My line 2  My bus 2  My bus 0       0.0001  0.0  0.0  0.0    0.0   \n",
      "\n",
      "attribute  s_nom_extendable  s_nom_min    ...      v_ang_min  v_ang_max  \\\n",
      "My line 0             False        0.0    ...           -inf        inf   \n",
      "My line 1             False        0.0    ...           -inf        inf   \n",
      "My line 2             False        0.0    ...           -inf        inf   \n",
      "\n",
      "attribute  sub_network  x_pu  r_pu  g_pu  b_pu  x_pu_eff r_pu_eff  s_nom_opt  \n",
      "My line 0                0.0   0.0   0.0   0.0       0.0      0.0        0.0  \n",
      "My line 1                0.0   0.0   0.0   0.0       0.0      0.0        0.0  \n",
      "My line 2                0.0   0.0   0.0   0.0       0.0      0.0        0.0  \n",
      "\n",
      "[3 rows x 26 columns]\n"
     ]
    }
   ],
   "source": [
    "# add three lines in a ring\n",
    "for i in range(3):\n",
    "    network.add(\"Line\", \"My line {}\". format(i),\n",
    "               bus0=\"My bus {}\".format(i),\n",
    "               bus1=\"My bus {}\".format((i+1)%3),\n",
    "               x=0.0001)\n",
    "print(network.lines)"
   ]
  },
  {
   "cell_type": "code",
   "execution_count": 13,
   "metadata": {},
   "outputs": [
    {
     "name": "stderr",
     "output_type": "stream",
     "text": [
      "ERROR:pypsa.components:Failed to add Generator component My gen because there is already an object with this name in generators\n"
     ]
    },
    {
     "name": "stdout",
     "output_type": "stream",
     "text": [
      "attribute       bus control type  p_nom  p_nom_extendable  p_nom_min  \\\n",
      "My gen     My bus 0      PQ         0.0             False        0.0   \n",
      "\n",
      "attribute  p_nom_max  p_min_pu  p_max_pu  p_set    ...      start_up_cost  \\\n",
      "My gen           inf       0.0       1.0  100.0    ...                0.0   \n",
      "\n",
      "attribute  shut_down_cost min_up_time  min_down_time  initial_status  \\\n",
      "My gen                0.0           0              0               1   \n",
      "\n",
      "attribute  ramp_limit_up  ramp_limit_down  ramp_limit_start_up  \\\n",
      "My gen               NaN              NaN                  1.0   \n",
      "\n",
      "attribute  ramp_limit_shut_down  p_nom_opt  \n",
      "My gen                      1.0        0.0  \n",
      "\n",
      "[1 rows x 27 columns]\n",
      "Empty DataFrame\n",
      "Columns: []\n",
      "Index: [now]\n"
     ]
    }
   ],
   "source": [
    "#add a generator at bus zero\n",
    "network.add(\"Generator\", \"My gen\",\n",
    "           bus = \"My bus 0\",\n",
    "           p_set = 100)\n",
    "print(network.generators)\n",
    "print(network.generators_t.p_set)"
   ]
  },
  {
   "cell_type": "code",
   "execution_count": 14,
   "metadata": {},
   "outputs": [
    {
     "name": "stdout",
     "output_type": "stream",
     "text": [
      "attribute       bus type  p_set  q_set  sign\n",
      "My load    My bus 1       100.0    0.0  -1.0\n",
      "Empty DataFrame\n",
      "Columns: []\n",
      "Index: [now]\n"
     ]
    }
   ],
   "source": [
    "#add a load at bus 1\n",
    "network.add(\"Load\", \"My load\",\n",
    "           bus = \"My bus 1\",\n",
    "           p_set = 100)\n",
    "print(network.loads)\n",
    "print(network.loads_t.p_set)"
   ]
  },
  {
   "cell_type": "code",
   "execution_count": 15,
   "metadata": {},
   "outputs": [
    {
     "name": "stderr",
     "output_type": "stream",
     "text": [
      "INFO:pypsa.pf:Slack bus for sub-network 0 is My bus 0\n",
      "C:\\Users\\sunha\\Anaconda3\\lib\\site-packages\\pypsa\\components.py:758: FutureWarning: Sorting because non-concatenation axis is not aligned. A future version\n",
      "of pandas will change to not sort by default.\n",
      "\n",
      "To accept the future behavior, pass 'sort=True'.\n",
      "\n",
      "To retain the current behavior and silence the warning, pass sort=False\n",
      "\n",
      "  keys=self.passive_branch_components)\n",
      "INFO:pypsa.pf:Performing non-linear load-flow on AC sub-network SubNetwork 0 for snapshots Index(['now'], dtype='object')\n",
      "INFO:pypsa.pf:Newton-Raphson solved in 3 iterations with error of 0.000000 in 0.153168 seconds\n"
     ]
    },
    {
     "name": "stdout",
     "output_type": "stream",
     "text": [
      "     My line 0  My line 1  My line 2\n",
      "now  66.666667 -33.333333 -33.333333\n",
      "     My bus 0  My bus 1  My bus 2\n",
      "now       0.0 -0.381983 -0.190989\n"
     ]
    }
   ],
   "source": [
    "# Do a newton raphson power flow\n",
    "network.pf()\n",
    "print(network.lines_t.p0)\n",
    "print(network.buses_t.v_ang*180/np.pi)"
   ]
  },
  {
   "cell_type": "code",
   "execution_count": 16,
   "metadata": {},
   "outputs": [
    {
     "data": {
      "text/plain": [
       "(<matplotlib.collections.PathCollection at 0x24a74290da0>,\n",
       " <matplotlib.collections.LineCollection at 0x24a742a2400>)"
      ]
     },
     "execution_count": 16,
     "metadata": {},
     "output_type": "execute_result"
    },
    {
     "data": {
      "image/png": "[encoded data removed]",
      "text/plain": [
       "<Figure size 432x288 with 1 Axes>"
      ]
     },
     "metadata": {},
     "output_type": "display_data"
    }
   ],
   "source": [
    "network.plot()"
   ]
  },
  {
   "cell_type": "code",
   "execution_count": null,
   "metadata": {},
   "outputs": [],
   "source": []
  }
 ],
 "metadata": {
  "kernelspec": {
   "display_name": "Python 3",
   "language": "python",
   "name": "python3"
  },
  "language_info": {
   "codemirror_mode": {
    "name": "ipython",
    "version": 3
   },
   "file_extension": ".py",
   "mimetype": "text/x-python",
   "name": "python",
   "nbconvert_exporter": "python",
   "pygments_lexer": "ipython3",
   "version": "3.6.5"
  }
 },
 "nbformat": 4,
 "nbformat_minor": 2
}
